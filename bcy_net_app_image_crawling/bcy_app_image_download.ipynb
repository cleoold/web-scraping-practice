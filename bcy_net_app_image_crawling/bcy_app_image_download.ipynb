{
 "cells": [
  {
   "cell_type": "markdown",
   "metadata": {},
   "source": [
    "Run:"
   ]
  },
  {
   "cell_type": "code",
   "execution_count": 1,
   "metadata": {},
   "outputs": [],
   "source": [
    "import re, requests, os"
   ]
  },
  {
   "cell_type": "markdown",
   "metadata": {},
   "source": [
    "The webpage version of some bcy.net's posts are broken, which means the http get method will not work here.\n",
    "Now let us try a different, half-machinic method."
   ]
  },
  {
   "cell_type": "markdown",
   "metadata": {},
   "source": [
    "### Use Fiddler 4\n",
    "Fiddler is a proxy that scans ongoing web traffic through my local machines. I can set up such a monitor on my desktop which is connected to the same network (wifi) my Android phones connects to in order to grab the page source.\n",
    "The bcy.net Android app can fetch the posts in the json format. We monitor this app."
   ]
  },
  {
   "cell_type": "markdown",
   "metadata": {},
   "source": [
    "Openning Fiddler 4, I will do some settings. Go to `tools -> Options` menu. Under `HTTPS`, check these:\n",
    "  * Capture HTTPS CONNECTs\n",
    "  * Decrypt HTTPS traffic\n",
    "  * Ignore server certification errors\n",
    " \n",
    "After enabling them, go to `Connections`, and check \"Allow remote computers to connect\". Remember the port number: it is `8888` by default.\n",
    "\n",
    "#### Get dekstop's IP address\n",
    "Hit powershell, and type `ipconfig`. Remember the \"IPv4\" address.\n",
    "\n",
    "### Settings on Android\n",
    "On my phone, I will need to connect to the same network. Beyond that, go to the hotspot-specific settings, under 'proxy', fill out the computer IP and port.\n",
    "\n",
    "Now go to the browser and type `IP address:port` on the address bar, for example, `192.168.0.9:8888`. Follow the page and install certificate quickly."
   ]
  },
  {
   "cell_type": "markdown",
   "metadata": {},
   "source": [
    "The phone side is then ready-to-go. Open a random webpage and the app should display the connection.\n",
    "\n",
    "Now switch to the desktop and do some filter work: I only monitor connections to my bcy connections of interest. Go to Filters tab the the right side in Fiddler, check `Use filters`, and fill the domain under `Show only the following Hosts`. The domain is `api.bcy.net`.\n",
    "\n",
    "Also, every post url has the following format: \n",
    "`api.bcy.net/apiv2/item/detail?iid=......`\n",
    "So under the \"Request headers\" section, in the \"Show only if URL contains\" box, fill in \"item/detail\".\n",
    "By previous observation, such pages are in json format.\n",
    "\n",
    "And now open the bcy app, tap a post, and a new session will appear. I can do this repeatedly. I do not need to wait for the full loading of each post.\n"
   ]
  },
  {
   "cell_type": "markdown",
   "metadata": {},
   "source": [
    "### Export and process\n",
    "Under `File -> Export sessions -> all sessions` then select `row files`. Open that dumped folder, I will see many json files with the filenames of session numberings. Open one of them I can see its content: it is indeed the full post containing image URLs. I now need to extract these urls.\n",
    "\n",
    "The following code combines all the text into one file:\n",
    "\n",
    "Run this under the dump folder."
   ]
  },
  {
   "cell_type": "code",
   "execution_count": null,
   "metadata": {},
   "outputs": [],
   "source": [
    "with open('res.txt', 'w', encoding='utf-8') as res:\n",
    "\tfor file in os.listdir('.'):\n",
    "\t\twith open(file, encoding='utf-8') as js:\n",
    "\t\t\tres.write(js.read())\n",
    "\t\tres.write('\\n\\n')"
   ]
  },
  {
   "cell_type": "markdown",
   "metadata": {},
   "source": [
    "Do an analysis.\n",
    "I will see each image url is in the following form:\n",
    "\n",
    "`https://p1-bcy.byteimg.com/img/banciyuan/coser/10927/post/178ym/4cbe8950872311e7aa4699045f6ccdbe.jpg~tplv-banciyuan-w650.image`\n",
    "\n",
    "So this regex filters urls:\n",
    "\n",
    "`r'https://p\\d-bcy\\.byteimg\\.com.+?image'`\n",
    "\n",
    "Also note some urls are avatars which we do not want. Hence we have\n"
   ]
  },
  {
   "cell_type": "code",
   "execution_count": null,
   "metadata": {},
   "outputs": [],
   "source": [
    "with open('res.txt', encoding='utf-8') as file:\n",
    "    v = re.findall(r'https://p\\d-bcy\\.byteimg\\.com.+?image', file.read())\n",
    "    v = [i for i in v if 'avatar' not in i]"
   ]
  },
  {
   "cell_type": "markdown",
   "metadata": {},
   "source": [
    "Run this. This defines a list of image urls. Note, however, that this url is just a thumbnail. Luckily, its real path is not difficult to find (after I observed some samples). Take a look at this demo:"
   ]
  },
  {
   "cell_type": "code",
   "execution_count": 2,
   "metadata": {},
   "outputs": [
    {
     "data": {
      "text/plain": [
       "'https://img-bcy-qn.pstatp.com/coser/10927/post/178ym/4cbe8950872311e7aa4699045f6ccdbe.jpg'"
      ]
     },
     "execution_count": 2,
     "metadata": {},
     "output_type": "execute_result"
    }
   ],
   "source": [
    "thumbPath = 'https://p1-bcy.byteimg.com/img/banciyuan/coser/10927/post/178ym/4cbe8950872311e7aa4699045f6ccdbe.jpg~tplv-banciyuan-w650.image'\n",
    "realPath = re.sub(r'.+?banciyuan/', 'https://img-bcy-qn.pstatp.com/', thumbPath)\n",
    "realPath = re.sub(r'~.+', '', realPath)\n",
    "realPath"
   ]
  },
  {
   "cell_type": "markdown",
   "metadata": {},
   "source": [
    "We can then conclude the code in a downloader:"
   ]
  },
  {
   "cell_type": "code",
   "execution_count": null,
   "metadata": {},
   "outputs": [],
   "source": [
    "count = 0\n",
    "for each in v:\n",
    "    reg = re.search(r'.+/(.+?)/(.+?)~.+?', each).groups()\n",
    "    foldername = reg[0]\n",
    "    filename = reg[1]\n",
    "    os.makedirs(foldername, exist_ok=True)\n",
    "    if os.path.exists(os.path.join(foldername, filename)):\n",
    "        count += 1\n",
    "        continue\n",
    "\n",
    "    try:\n",
    "        # modify url\n",
    "        each = re.sub(r'.+?banciyuan/', 'https://img-bcy-qn.pstatp.com/', each)\n",
    "        each = re.sub(r'~.+', '', each)\n",
    "        # modify url end\n",
    "        \n",
    "        req = requests.get(each)\n",
    "        with open(os.path.join(foldername, filename), 'wb') as file:\n",
    "            for chunk in req.iter_content(1000):\n",
    "                file.write(chunk)\n",
    "    except Exception as e:\n",
    "        print(str(e))\n",
    "    count += 1\n",
    "    print(count)"
   ]
  },
  {
   "cell_type": "markdown",
   "metadata": {},
   "source": [
    "Run this and start downloading"
   ]
  }
 ],
 "metadata": {
  "kernelspec": {
   "display_name": "Python 3",
   "language": "python",
   "name": "python3"
  },
  "language_info": {
   "codemirror_mode": {
    "name": "ipython",
    "version": 3
   },
   "file_extension": ".py",
   "mimetype": "text/x-python",
   "name": "python",
   "nbconvert_exporter": "python",
   "pygments_lexer": "ipython3",
   "version": "3.7.3"
  }
 },
 "nbformat": 4,
 "nbformat_minor": 2
}
